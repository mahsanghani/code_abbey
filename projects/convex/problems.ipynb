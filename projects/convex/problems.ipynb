{
 "cells": [
  {
   "cell_type": "code",
   "execution_count": 3,
   "metadata": {
    "collapsed": true,
    "pycharm": {
     "name": "#%%\n"
    }
   },
   "outputs": [],
   "source": [
    "import numpy as np\n",
    "import matplotlib.pyplot as plt\n",
    "import mpl_toolkits.mplot3d.art3d as art3d\n",
    "from scipy.optimize import minimize, differential_evolution, line_search, BFGS, SR1, NonlinearConstraint\n",
    "from numdifftools import Gradient"
   ]
  },
  {
   "cell_type": "code",
   "execution_count": null,
   "outputs": [],
   "source": [
    "x = np.linspace(-3, 3)\n",
    "f = lambda x: x ** 2 / 2\n",
    "slope = lambda x: 2 * x\n",
    "\n",
    "#Define tangent line\n",
    "def tan_line(x, x0):\n",
    "    return slope(x0) * (x - x0) + f(x0)\n",
    "\n",
    "phi = f(x)\n",
    "\n",
    "fig, ax = plt.subplots(figsize=[6, 4], dpi=150)\n",
    "\n",
    "ax.plot(x, phi, color=\"navy\", label=r\"$f(x)$\")\n",
    "\n",
    "x0 = np.array([0])\n",
    "line_x0 = np.array([-2, 2]) + x0\n",
    "ax.scatter(x0, f(x0), label=r\"$f(x*)$\", color=\"black\")\n",
    "ax.plot(line_x0, tan_line(line_x0, x0), color=\"black\", linestyle=\":\")\n",
    "\n",
    "ax.legend()\n",
    "\n",
    "ax.set_xlabel(r\"$x$\")\n",
    "ax.set_ylabel(r\"$f(x)$\")\n",
    "\n",
    "plt.tight_layout()\n",
    "\n",
    "plt.show()"
   ],
   "metadata": {
    "collapsed": false,
    "pycharm": {
     "name": "#%%\n"
    }
   }
  }
 ],
 "metadata": {
  "kernelspec": {
   "display_name": "Python 3",
   "language": "python",
   "name": "python3"
  },
  "language_info": {
   "codemirror_mode": {
    "name": "ipython",
    "version": 2
   },
   "file_extension": ".py",
   "mimetype": "text/x-python",
   "name": "python",
   "nbconvert_exporter": "python",
   "pygments_lexer": "ipython2",
   "version": "2.7.6"
  }
 },
 "nbformat": 4,
 "nbformat_minor": 0
}