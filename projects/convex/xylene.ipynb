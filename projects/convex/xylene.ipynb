{
 "cells": [
  {
   "cell_type": "code",
   "execution_count": 1,
   "metadata": {
    "collapsed": true,
    "pycharm": {
     "name": "#%%\n"
    }
   },
   "outputs": [],
   "source": [
    "import numpy as np\n",
    "from scipy.integrate import solve_ivp\n",
    "from scipy.optimize import minimize\n",
    "import matplotlib.pyplot as plt"
   ]
  },
  {
   "cell_type": "code",
   "execution_count": 2,
   "outputs": [],
   "source": [
    "Ft0 = 2\n",
    "ct0 = 2\n",
    "v = Ft0/ct0\n",
    "y0 = np.array([0.5, 0.5, 0.0])\n",
    "c0 = y0 * ct0\n",
    "F0 = y0 * Ft0\n",
    "Cp = 100.0\n",
    "dh1 = -1800\n",
    "dh3 = -1100\n",
    "U = 16"
   ],
   "metadata": {
    "collapsed": false,
    "pycharm": {
     "name": "#%%\n"
    }
   }
  },
  {
   "cell_type": "code",
   "execution_count": 3,
   "outputs": [],
   "source": [
    "def ode_system(w, y, Ta=500):\n",
    "    T = y[0]\n",
    "    c = y[1:]\n",
    "    F = c * v\n",
    "    k1 = 0.5 * np.exp(2 * (1 - 320 / T))\n",
    "    Kc = 10 * np.exp(4.8 * (430 / T - 1.5))\n",
    "    k2 = k1 / Kc\n",
    "    k3 = 0.005 * np.exp(4.6 * (1 - 460 / T))\n",
    "    r1 = - k1 * c[0] + k2 * c[1]\n",
    "    r3 = - k3 * c[0]\n",
    "    dc = np.array([r1 + r3, -r1, -r3]) / v\n",
    "    rdh = r1 * dh1 + r3 * dh3\n",
    "    dT = (U * (Ta - T) + rdh) / (F * Cp).sum()\n",
    "\n",
    "    return np.hstack([dT, dc])"
   ],
   "metadata": {
    "collapsed": false,
    "pycharm": {
     "name": "#%%\n"
    }
   }
  },
  {
   "cell_type": "code",
   "execution_count": null,
   "outputs": [],
   "source": [],
   "metadata": {
    "collapsed": false,
    "pycharm": {
     "name": "#%%\n"
    }
   }
  }
 ],
 "metadata": {
  "kernelspec": {
   "display_name": "Python 3",
   "language": "python",
   "name": "python3"
  },
  "language_info": {
   "codemirror_mode": {
    "name": "ipython",
    "version": 2
   },
   "file_extension": ".py",
   "mimetype": "text/x-python",
   "name": "python",
   "nbconvert_exporter": "python",
   "pygments_lexer": "ipython2",
   "version": "2.7.6"
  }
 },
 "nbformat": 4,
 "nbformat_minor": 0
}